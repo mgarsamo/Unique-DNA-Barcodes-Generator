{
 "cells": [
  {
   "cell_type": "markdown",
   "id": "bbd1203e",
   "metadata": {},
   "source": [
    "### Melaku Garsamo"
   ]
  },
  {
   "cell_type": "markdown",
   "id": "e71a9d63",
   "metadata": {},
   "source": [
    "# Generating Unique DNA Barcodes\n",
    "\n",
    "This code snippet generates a list of unique DNA barcodes. A DNA barcode is a specific sequence of nucleotides that serves as a unique identifier for a biological entity. Here's a step-by-step explanation of the process:\n",
    "\n",
    "1. **Generate All Possible DNA Sequences:** Initially, a list of all possible 10-base DNA sequences is created by combining the four DNA bases - \"A\" (Adenine), \"C\" (Cytosine), \"G\" (Guanine), and \"T\" (Thymine) in a nested loop.\n",
    "\n",
    "2. **Shuffle the List:** The list of sequences is then shuffled to obtain a random order.\n",
    "\n",
    "3. **Generate Unique Barcodes:** An empty set named 'barcodes' is initialized to store unique barcodes. The following steps are performed repeatedly until 10,000 unique barcodes are obtained:\n",
    "\n",
    "    - A random sequence is selected from the list of shuffled sequences.\n",
    "    - Three random indices are chosen from 0 to 9 to perform mutations.\n",
    "    - At the selected indices, the nucleotides are changed to other bases, ensuring that each barcode differs by exactly three nucleotides from its original sequence.\n",
    "    - The mutated barcode is added to the 'barcodes' set.\n",
    "\n",
    "4. **Halfway Checkpoint:** After generating 5,000 unique barcodes, a comment \"Halfway done!\" is printed to indicate progress.\n",
    "\n",
    "5. **Sort and Convert to DataFrame:** Once the set contains 10,000 unique barcodes, it is converted back to a list and sorted alphabetically. Finally, the sorted list is converted into a Pandas DataFrame with a single column named \"Barcode\" for further analysis.\n",
    "\n",
    "This process ensures the creation of 10,000 unique DNA barcodes with minimal similarities between them, making them valuable for various biological applications, such as identifying individual samples or tracking specific genetic sequences."
   ]
  },
  {
   "cell_type": "code",
   "execution_count": null,
   "id": "3d6e0e02",
   "metadata": {},
   "outputs": [],
   "source": []
  },
  {
   "cell_type": "code",
   "execution_count": null,
   "id": "a75f5596",
   "metadata": {},
   "outputs": [],
   "source": []
  },
  {
   "cell_type": "code",
   "execution_count": null,
   "id": "6ed9f346",
   "metadata": {},
   "outputs": [],
   "source": []
  },
  {
   "cell_type": "code",
   "execution_count": 2,
   "id": "b1acacba",
   "metadata": {},
   "outputs": [],
   "source": [
    "import pandas as pd\n",
    "import numpy as np\n",
    "import matplotlib.pyplot as plt\n",
    "from matplotlib import style \n",
    "%matplotlib inline\n",
    "%config InlineBackend.figure_format='svg'\n",
    "import os\n",
    "import random\n",
    "from scipy.stats import linregress\n",
    "from scipy.optimize import curve_fit\n",
    "import seaborn as sns\n",
    "from matplotlib.patches import Rectangle\n",
    "from palettable.scientific.sequential import *\n",
    "import sys\n",
    "if not sys.warnoptions:\n",
    "    import warnings\n",
    "    warnings.simplefilter(\"ignore\")\n",
    "import re\n",
    "from typing import List, Optional, Union\n",
    "\n",
    "from sigfig import round\n",
    "from sklearn.metrics import r2_score\n",
    "\n",
    "import hillfit\n"
   ]
  },
  {
   "cell_type": "code",
   "execution_count": null,
   "id": "a104b90e",
   "metadata": {},
   "outputs": [],
   "source": []
  },
  {
   "cell_type": "code",
   "execution_count": 8,
   "id": "87fc9d53",
   "metadata": {},
   "outputs": [
    {
     "name": "stdout",
     "output_type": "stream",
     "text": [
      "Halfway done!\n"
     ]
    }
   ],
   "source": [
    "# Generate a list of all possible 10-base DNA sequences\n",
    "bases = [\"A\", \"C\", \"G\", \"T\"]\n",
    "all_sequences = [a+b+c+d+e+f+g+h+i+j for a in bases for b in bases for c in bases for d in bases for e in bases for f in bases for g in bases for h in bases for i in bases for j in bases]\n",
    "\n",
    "# Shuffle the list to get a random order\n",
    "random.shuffle(all_sequences)\n",
    "\n",
    "# Initialize an empty set to store the barcodes\n",
    "barcodes = set()\n",
    "\n",
    "# Generate barcodes until we have 10,000 unique barcodes\n",
    "while len(barcodes) < 10000:\n",
    "    # Pick a random sequence\n",
    "    sequence = all_sequences.pop()\n",
    "\n",
    "    # Generate 3 random indices to mutate\n",
    "    indices = random.sample(range(10), 3)\n",
    "\n",
    "    # Mutate the sequence at the selected indices\n",
    "    barcode = list(sequence)\n",
    "    for i in indices:\n",
    "        bases_except_current = [b for b in bases if b != barcode[i]]\n",
    "        barcode[i] = random.choice(bases_except_current)\n",
    "    barcode = \"\".join(barcode)\n",
    "\n",
    "    # Add the barcode to the set\n",
    "    barcodes.add(barcode)\n",
    "\n",
    "    # Print a comment after half of the barcodes have been generated\n",
    "    if len(barcodes) == 5000:\n",
    "        print(\"Halfway done!\")\n",
    "\n",
    "# Convert the set to a list and sort it alphabetically\n",
    "barcodes = sorted(list(barcodes))\n",
    "\n",
    "# Convert the list to a Pandas DataFrame\n",
    "df_barcodes = pd.DataFrame(barcodes, columns=[\"Barcode\"])"
   ]
  },
  {
   "cell_type": "code",
   "execution_count": null,
   "id": "dcf01675",
   "metadata": {},
   "outputs": [],
   "source": []
  },
  {
   "cell_type": "code",
   "execution_count": 9,
   "id": "fd8ef2f5",
   "metadata": {},
   "outputs": [
    {
     "data": {
      "text/html": [
       "<div>\n",
       "<style scoped>\n",
       "    .dataframe tbody tr th:only-of-type {\n",
       "        vertical-align: middle;\n",
       "    }\n",
       "\n",
       "    .dataframe tbody tr th {\n",
       "        vertical-align: top;\n",
       "    }\n",
       "\n",
       "    .dataframe thead th {\n",
       "        text-align: right;\n",
       "    }\n",
       "</style>\n",
       "<table border=\"1\" class=\"dataframe\">\n",
       "  <thead>\n",
       "    <tr style=\"text-align: right;\">\n",
       "      <th></th>\n",
       "      <th>Barcode</th>\n",
       "    </tr>\n",
       "  </thead>\n",
       "  <tbody>\n",
       "    <tr>\n",
       "      <th>0</th>\n",
       "      <td>AAAAAAACTG</td>\n",
       "    </tr>\n",
       "    <tr>\n",
       "      <th>1</th>\n",
       "      <td>AAAAAACGGC</td>\n",
       "    </tr>\n",
       "    <tr>\n",
       "      <th>2</th>\n",
       "      <td>AAAAAATCCC</td>\n",
       "    </tr>\n",
       "    <tr>\n",
       "      <th>3</th>\n",
       "      <td>AAAAACATAT</td>\n",
       "    </tr>\n",
       "    <tr>\n",
       "      <th>4</th>\n",
       "      <td>AAAAACTAGT</td>\n",
       "    </tr>\n",
       "  </tbody>\n",
       "</table>\n",
       "</div>"
      ],
      "text/plain": [
       "      Barcode\n",
       "0  AAAAAAACTG\n",
       "1  AAAAAACGGC\n",
       "2  AAAAAATCCC\n",
       "3  AAAAACATAT\n",
       "4  AAAAACTAGT"
      ]
     },
     "execution_count": 9,
     "metadata": {},
     "output_type": "execute_result"
    }
   ],
   "source": [
    "df_barcodes.head()"
   ]
  },
  {
   "cell_type": "code",
   "execution_count": null,
   "id": "9172f729",
   "metadata": {},
   "outputs": [],
   "source": []
  },
  {
   "cell_type": "code",
   "execution_count": 10,
   "id": "437d5ecd",
   "metadata": {},
   "outputs": [
    {
     "data": {
      "text/plain": [
       "10000"
      ]
     },
     "execution_count": 10,
     "metadata": {},
     "output_type": "execute_result"
    }
   ],
   "source": [
    "len(df_barcodes)"
   ]
  },
  {
   "cell_type": "code",
   "execution_count": null,
   "id": "265123ec",
   "metadata": {},
   "outputs": [],
   "source": []
  },
  {
   "cell_type": "code",
   "execution_count": null,
   "id": "b19aa631",
   "metadata": {},
   "outputs": [],
   "source": []
  },
  {
   "cell_type": "code",
   "execution_count": null,
   "id": "0a76f540",
   "metadata": {},
   "outputs": [],
   "source": []
  },
  {
   "cell_type": "code",
   "execution_count": null,
   "id": "d8ccf885",
   "metadata": {},
   "outputs": [],
   "source": []
  },
  {
   "cell_type": "code",
   "execution_count": null,
   "id": "df1b7e2c",
   "metadata": {},
   "outputs": [],
   "source": []
  }
 ],
 "metadata": {
  "kernelspec": {
   "display_name": "Python 3 (ipykernel)",
   "language": "python",
   "name": "python3"
  },
  "language_info": {
   "codemirror_mode": {
    "name": "ipython",
    "version": 3
   },
   "file_extension": ".py",
   "mimetype": "text/x-python",
   "name": "python",
   "nbconvert_exporter": "python",
   "pygments_lexer": "ipython3",
   "version": "3.9.7"
  }
 },
 "nbformat": 4,
 "nbformat_minor": 5
}
